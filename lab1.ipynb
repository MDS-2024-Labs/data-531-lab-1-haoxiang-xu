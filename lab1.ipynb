{
 "cells": [
  {
   "cell_type": "markdown",
   "metadata": {},
   "source": [
    "# DATA 531 Lab 1: Python Functions, Lists, and Dictionaries"
   ]
  },
  {
   "cell_type": "markdown",
   "metadata": {},
   "source": [
    "****\n",
    "**Name**: Haoxiang Xu\n",
    "\n",
    "**Date**: 05/09/2024\n",
    "\n",
    "**LLM**: None/Copilot/ChatGPT/Other\n",
    "****"
   ]
  },
  {
   "cell_type": "markdown",
   "metadata": {},
   "source": [
    "## Objectives\n",
    "\n",
    "1. Create and call Python functions with parameters (including parameters with default values).\n",
    "2. Use of Python built-in functions including math functions and functions in random package.\n",
    "3. Mastery of list operations including traversing a list with a for loop, list indexing, and operations such as append.\n",
    "4. Experience with use of dictionaries as a key-value data store."
   ]
  },
  {
   "cell_type": "markdown",
   "metadata": {},
   "source": [
    "## Question #1 - Creating and Calling Functions (0.7 marks)\n",
    "\n",
    "Create a Python program that creates and calls a function for calculating the average of a list of values. Details:\n",
    "\n",
    "- Create function with name ``avglist`` that accepts three parameters: (0.1 mark)\n",
    "    - ``lst`` - list of numbers\n",
    "    - ``low`` - miminum value (not inclusive). Default = 0\n",
    "    - ``high`` - maximum value (not inclusive). Default = 100\n",
    "- Function will calculate and return the average of all values in the range (``low``, ``high``). (0.1 mark)\n",
    "- Function should have a docstring as shown in output. (0.1 mark)\n",
    "- Call ``help(avglist)`` or ``help?`` to display function information. (0.1 mark)\n",
    "- Create a list with the numbers 1 to 10 and call ``avglist()`` with default range and print result. (0.1 mark)\n",
    "- Create a list with the numbers 1 to 100 and call ``avglist()`` with range (``20``, ``80``) and print result. (0.1 mark)\n",
    "- Create a list with 100 random numbers between 1 and 100 and call avglist() with range (``30``, ``100``) and print the result. Note: Will need to ``import random`` and use ``random.randint(1,100)``. To set seed, use ``random.seed(0)``. (0.1 mark)"
   ]
  },
  {
   "cell_type": "markdown",
   "metadata": {},
   "source": [
    "### Solution"
   ]
  },
  {
   "cell_type": "code",
   "execution_count": 15,
   "metadata": {},
   "outputs": [],
   "source": [
    "### Solution\n",
    "def avglist(lst, low=0, high=100):\n",
    "    \"\"\"\n",
    "    A function for calculating the average of a list of values.\n",
    "    \n",
    "    Args:\n",
    "        lst (list): list of numbers\n",
    "        low(int): miminum value (not inclusive). Default = 0\n",
    "        high(int): maximum value (not inclusive). Default = 100\n",
    "\n",
    "    Returns:\n",
    "        return the average of all values in the range (``low``, ``high``).\n",
    "    \"\"\"\n",
    "    sum = 0\n",
    "    count_of_num_in_range = 0\n",
    "    for num in lst:\n",
    "        if num > low and num < high:\n",
    "            sum += num\n",
    "            count_of_num_in_range += 1\n",
    "            \n",
    "    average = sum / count_of_num_in_range\n",
    "        \n",
    "    return average"
   ]
  },
  {
   "cell_type": "markdown",
   "metadata": {},
   "source": [
    "##### display function information"
   ]
  },
  {
   "cell_type": "code",
   "execution_count": 16,
   "metadata": {},
   "outputs": [
    {
     "name": "stdout",
     "output_type": "stream",
     "text": [
      "Help on function avglist in module __main__:\n",
      "\n",
      "avglist(lst, low=0, high=100)\n",
      "    A function for calculating the average of a list of values.\n",
      "    \n",
      "    Args:\n",
      "        lst (list): list of numbers\n",
      "        low(int): miminum value (not inclusive). Default = 0\n",
      "        high(int): maximum value (not inclusive). Default = 100\n",
      "    \n",
      "    Returns:\n",
      "        return the average of all values in the range (``low``, ``high``).\n",
      "\n"
     ]
    }
   ],
   "source": [
    "help(avglist)"
   ]
  },
  {
   "cell_type": "markdown",
   "metadata": {},
   "source": [
    "##### Create a list with the numbers 1 to 10 and call ``avglist()`` with default range and print result."
   ]
  },
  {
   "cell_type": "code",
   "execution_count": 18,
   "metadata": {},
   "outputs": [
    {
     "name": "stdout",
     "output_type": "stream",
     "text": [
      "5.5\n"
     ]
    }
   ],
   "source": [
    "lst1 = list(range(1, 11))\n",
    "print(avglist(lst1))"
   ]
  },
  {
   "cell_type": "markdown",
   "metadata": {},
   "source": [
    "##### Create a list with the numbers 1 to 100 and call ``avglist()`` with range (``20``, ``80``) and print result."
   ]
  },
  {
   "cell_type": "code",
   "execution_count": 19,
   "metadata": {},
   "outputs": [
    {
     "name": "stdout",
     "output_type": "stream",
     "text": [
      "50.0\n"
     ]
    }
   ],
   "source": [
    "lst2 = list(range(1, 101))\n",
    "print(avglist(lst2, 20, 80))"
   ]
  },
  {
   "cell_type": "markdown",
   "metadata": {},
   "source": [
    "##### Create a list with 100 random numbers between 1 and 100 and call avglist() with range (``30``, ``100``) and print the result."
   ]
  },
  {
   "cell_type": "code",
   "execution_count": 29,
   "metadata": {},
   "outputs": [
    {
     "name": "stdout",
     "output_type": "stream",
     "text": [
      "62.41095890410959\n"
     ]
    }
   ],
   "source": [
    "import random\n",
    "random.seed(0)\n",
    "lst3 = [random.randint(1, 100) for i in range(100)]\n",
    "print(avglist(lst3, 30, 100))"
   ]
  },
  {
   "cell_type": "markdown",
   "metadata": {},
   "source": [
    "## Question #2 - Using Lists (1.3 marks)\n",
    "\n",
    "Create a Python program that performs list operations based on user input. Details:\n",
    "The user can just enter positive numbers.\n",
    "\n",
    "- Create a list with the numbers ``2, 4, 6, 8, and 10``. (0.1 mark)\n",
    "- Using a while loop, prompt the user for an operation to perform until ``X`` for exit is selected. (0.1 mark)\n",
    "    - If operation is ``A``, prompt for a number and append that number to the list. (0.1 mark)\n",
    "    - If operation is ``P``, print the list. (0.1 mark)\n",
    "    - If operation is ``G``, prompt for an index and print the number at that index from the list. Make sure it is a valid index otherwise print ``Error invalid index``. (0.2 mark)\n",
    "    - If operation is ``D``, prompt for a number and delete that number from the list. (0.2 mark)\n",
    "    - If operation is ``R``,  prompt for two numbers ``startIdx`` and ``endIdx`` and return a range from the list ``[startIdx, endIdx]``. Make sure it is a valid range otherwise print ``Error invalid index``. (0.2 marks)    \n",
    "- If operation is ``S``, sort the list in ascending order. (0.3 mark) "
   ]
  },
  {
   "cell_type": "markdown",
   "metadata": {},
   "source": [
    "### Solution"
   ]
  },
  {
   "cell_type": "code",
   "execution_count": 38,
   "metadata": {},
   "outputs": [
    {
     "name": "stdout",
     "output_type": "stream",
     "text": [
      "[2, 4, 6, 8, 10, 12, 8, 4, 6]\n",
      "[2, 4, 4, 6, 6, 8, 8, 10, 12]\n",
      "function ended.\n"
     ]
    }
   ],
   "source": [
    "### Your solution here\n",
    "lst4 = [2,4,6,8,10]\n",
    "avaliable_keys = ['A', 'P', 'G', 'D', 'R', 'X', 'S']\n",
    "\n",
    "character_entered = ''\n",
    "number_entered = -1\n",
    "\n",
    "while character_entered.upper() != 'X':\n",
    "    character_entered = str(input(\"Press a key and enter return to preform a operation or press x to exit:\"))\n",
    "    if len(character_entered) > 1 or len(character_entered) == 0 or character_entered.upper() not in avaliable_keys:\n",
    "        print('Error Invalid key entered.')\n",
    "        continue\n",
    "    \n",
    "    if character_entered.upper() == 'A':\n",
    "        number_entered = int(input(\"Enter a positive number:\"))\n",
    "        if number_entered < 0:\n",
    "            print('Error Invalid number.')\n",
    "            continue\n",
    "        lst4.append(number_entered)\n",
    "    if character_entered.upper() == 'P':\n",
    "        print(lst4)\n",
    "    if character_entered.upper() == 'G':\n",
    "        number_entered = int(input(\"Enter a index between 0 to \" + str(len(lst4)-1) + \":\"))\n",
    "        if number_entered < 0 or number_entered > len(lst4)-1:\n",
    "            print('Error Invalid index.')\n",
    "            continue\n",
    "        print(lst4[number_entered])\n",
    "    if character_entered.upper() == 'D':\n",
    "        number_entered = int(input(\"Enter a number that you want to delete from the list:\"))\n",
    "        if number_entered not in lst4:\n",
    "            print('Error Invalid number.')\n",
    "            continue\n",
    "        lst4.remove(number_entered)\n",
    "    if character_entered.upper() == 'R':\n",
    "        startIdx = int(input(\"Enter the start index between 0 to \" + str(len(lst4)-1) + \":\"))\n",
    "        endIdx = int(input(\"Enter the end index between 0 to \" + str(len(lst4)-1) + \":\"))\n",
    "        \n",
    "        if startIdx < 0 or startIdx > len(lst4)-1 or endIdx < 0 or endIdx > len(lst4)-1 or startIdx > endIdx:\n",
    "            print('Error Invalid index.')\n",
    "            continue\n",
    "        range = lst4[startIdx:endIdx]\n",
    "        print(range)\n",
    "    if character_entered.upper() == 'S':\n",
    "        lst4.sort()\n",
    "         \n",
    "print('function ended.')"
   ]
  },
  {
   "cell_type": "markdown",
   "metadata": {},
   "source": [
    "## Question #3 - Letter Frequency Analysis using Dictionaries (3 marks)\n",
    "\n",
    "Create a Python program that takes a string text and calculates the frequency of each letter and punctuation. Data set (copy as string into Python code):\n",
    "\n",
    "    text = \"\"\"She should have died hereafter.\n",
    "    There would have been a time for such a word.\n",
    "    Tomorrow, and tomorrow, and tomorrow,\n",
    "    Creeps in this petty pace from day to day\n",
    "    To the last syllable of recorded time,\n",
    "    And all our yesterdays have lighted fools\n",
    "    The way to dusty death. Out, out, brief candle!\n",
    "    Life's but a walking shadow, a poor player\n",
    "    That struts and frets his hour upon the stage\n",
    "    And then is heard no more. It is a tale\n",
    "    Told by an idiot, full of sound and fury,\n",
    "    Signifying nothing.\"\"\" # Macbeth: Act 5, Scene 5, Page 2\n",
    "\n",
    "Details:\n",
    "- Copy data set above into Python code. \n",
    "- Create an empty dictionary to store letter counts.  Upper and lower case letters should be counted together as upper case (e.g. 'A' and 'a'). Punction '.' and '!' and spaces (' ')  have their own entries. All other characters counted as '#' (for other). (0.5 mark)\n",
    "    - Note that upper case letters are in ASCII table from 65 to 91 and lower case from 97 to 123. [ASCII Table](https://ascii.cl/) [Helpful info](https://terrameijar.wordpress.com/2017/02/03/python-how-to-generate-a-list-of-letters-in-the-alphabet/)\n",
    "    - Note: the [ord() function](https://docs.python.org/3.4/library/functions.html?highlight=ord#ord) may be useful.\n",
    "- Use a for loop to process each letter in the text: \n",
    "    - Use dictionary to update letter counts. Note: Will need to search dictionary to see if letter exists. If not, then add it otherwise add one to count. (0.5 marks)\n",
    "- Output the total number of characters and for each character its count and frequency. (1 mark)   \n",
    "- Sort output alphabetically  (1 mark)"
   ]
  },
  {
   "cell_type": "markdown",
   "metadata": {},
   "source": [
    "### Solution"
   ]
  },
  {
   "cell_type": "code",
   "execution_count": 2,
   "metadata": {},
   "outputs": [
    {
     "name": "stdout",
     "output_type": "stream",
     "text": [
      "  \tcount: 122\tpercentage: 19.61%\n",
      "! \tcount: 1\tpercentage: 0.16%\n",
      "# \tcount: 21\tpercentage: 3.26%\n",
      ". \tcount: 5\tpercentage: 0.77%\n",
      "A \tcount: 33\tpercentage: 4.84%\n",
      "B \tcount: 5\tpercentage: 0.73%\n",
      "C \tcount: 5\tpercentage: 0.72%\n",
      "D \tcount: 25\tpercentage: 3.49%\n",
      "E \tcount: 38\tpercentage: 5.03%\n",
      "F \tcount: 12\tpercentage: 1.56%\n",
      "G \tcount: 6\tpercentage: 0.78%\n",
      "H \tcount: 21\tpercentage: 2.64%\n",
      "I \tcount: 19\tpercentage: 2.34%\n",
      "K \tcount: 1\tpercentage: 0.12%\n",
      "L \tcount: 18\tpercentage: 2.16%\n",
      "M \tcount: 7\tpercentage: 0.83%\n",
      "N \tcount: 19\tpercentage: 2.21%\n",
      "O \tcount: 36\tpercentage: 4.03%\n",
      "P \tcount: 6\tpercentage: 0.67%\n",
      "R \tcount: 26\tpercentage: 2.81%\n",
      "S \tcount: 22\tpercentage: 2.32%\n",
      "T \tcount: 36\tpercentage: 3.66%\n",
      "U \tcount: 14\tpercentage: 1.4%\n",
      "V \tcount: 3\tpercentage: 0.3%\n",
      "W \tcount: 8\tpercentage: 0.79%\n",
      "Y \tcount: 12\tpercentage: 1.18%\n",
      "\n",
      "Total characters count: 1021\n"
     ]
    }
   ],
   "source": [
    "### Your solution here\n",
    "text = \"\"\"She should have died hereafter.\n",
    "    There would have been a time for such a word.\n",
    "    Tomorrow, and tomorrow, and tomorrow,\n",
    "    Creeps in this petty pace from day to day\n",
    "    To the last syllable of recorded time,\n",
    "    And all our yesterdays have lighted fools\n",
    "    The way to dusty death. Out, out, brief candle!\n",
    "    Life's but a walking shadow, a poor player\n",
    "    That struts and frets his hour upon the stage\n",
    "    And then is heard no more. It is a tale\n",
    "    Told by an idiot, full of sound and fury,\n",
    "    Signifying nothing.\"\"\"\n",
    "    \n",
    "letter_count = {}\n",
    "total_count = 0\n",
    "\n",
    "for character in text:\n",
    "    if ord(character) >= 65 and ord(character) <= 122 or character.upper() == ' ' or character.upper() == '!' or character.upper() == '.':\n",
    "        if character.upper() in letter_count:\n",
    "            letter_count[character.upper()] += 1\n",
    "        else:\n",
    "            letter_count[character.upper()] = 1\n",
    "        total_count += 1\n",
    "    else:\n",
    "        if '#' in letter_count:\n",
    "            letter_count['#'] += 1\n",
    "        else:\n",
    "            letter_count['#'] = 1\n",
    "            \n",
    "sorted_letter_count = dict(sorted(letter_count.items()))\n",
    "\n",
    "for key in sorted_letter_count:\n",
    "    total_count += sorted_letter_count[key]\n",
    "    print(key + ' \\tcount: ' + str(sorted_letter_count[key]) + '\\tpercentage: ' + str(round(sorted_letter_count[key]/total_count*100,2)) + \"%\")\n",
    "    \n",
    "print('\\nTotal characters count: ' + str(total_count))\n"
   ]
  }
 ],
 "metadata": {
  "kernelspec": {
   "display_name": "Python 3.8.2 ('r-kernel')",
   "language": "python",
   "name": "python3"
  },
  "language_info": {
   "codemirror_mode": {
    "name": "ipython",
    "version": 3
   },
   "file_extension": ".py",
   "mimetype": "text/x-python",
   "name": "python",
   "nbconvert_exporter": "python",
   "pygments_lexer": "ipython3",
   "version": "3.10.14"
  },
  "vscode": {
   "interpreter": {
    "hash": "753d7113537b387b72782a0cc951b2283945434542ede86a4702dfaca059ddf6"
   }
  }
 },
 "nbformat": 4,
 "nbformat_minor": 4
}
